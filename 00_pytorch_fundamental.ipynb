{
  "nbformat": 4,
  "nbformat_minor": 0,
  "metadata": {
    "colab": {
      "provenance": [],
      "authorship_tag": "ABX9TyOCW2KQecsNAYIAHVbFqzK+",
      "include_colab_link": true
    },
    "kernelspec": {
      "name": "python3",
      "display_name": "Python 3"
    },
    "language_info": {
      "name": "python"
    }
  },
  "cells": [
    {
      "cell_type": "markdown",
      "metadata": {
        "id": "view-in-github",
        "colab_type": "text"
      },
      "source": [
        "<a href=\"https://colab.research.google.com/github/shrikrishnachannawar/Basics_of_pytorch-/blob/main/00_pytorch_fundamental.ipynb\" target=\"_parent\"><img src=\"https://colab.research.google.com/assets/colab-badge.svg\" alt=\"Open In Colab\"/></a>"
      ]
    },
    {
      "cell_type": "markdown",
      "source": [
        "# PyTorch fundamentals\n",
        "\n",
        "* Resource Notebook:https://www.learnpytorch.io/"
      ],
      "metadata": {
        "id": "xdh1Qqz_cHdy"
      }
    },
    {
      "cell_type": "code",
      "source": [
        "import torch"
      ],
      "metadata": {
        "id": "RPkYmldZcUSc"
      },
      "execution_count": 1,
      "outputs": []
    },
    {
      "cell_type": "code",
      "source": [
        "print(torch.__version__)"
      ],
      "metadata": {
        "id": "v4TajXzacse2",
        "colab": {
          "base_uri": "https://localhost:8080/"
        },
        "outputId": "03941391-96ac-4036-81ee-713a5e7957cb"
      },
      "execution_count": 2,
      "outputs": [
        {
          "output_type": "stream",
          "name": "stdout",
          "text": [
            "2.0.1+cu118\n"
          ]
        }
      ]
    },
    {
      "cell_type": "markdown",
      "source": [
        "## Random tensors\n",
        "\n",
        "Why random tensor?\n",
        "\n",
        "Random tensors are import because the many\n",
        "neural network learn is that start with tensors full of random number and then adjust those random numbers to better represent the data.\n",
        "\n",
        "`Start with  random number -> Update random numbers-> look at the data->update random numbers`\n",
        "\n",
        "Torch random tensors:https://pytorch.org/docs/stable/generated/torch.rand.html"
      ],
      "metadata": {
        "id": "t4C82xwAfMm9"
      }
    },
    {
      "cell_type": "code",
      "source": [
        "#create the random tensor of size(3,4)\n",
        "random_tensor =torch.rand(3,4)\n",
        "random_tensor"
      ],
      "metadata": {
        "id": "la7bCnQ2cyIn",
        "colab": {
          "base_uri": "https://localhost:8080/"
        },
        "outputId": "9b38ede2-d8db-4253-92a7-a87f99328a91"
      },
      "execution_count": 3,
      "outputs": [
        {
          "output_type": "execute_result",
          "data": {
            "text/plain": [
              "tensor([[0.4291, 0.9884, 0.3457, 0.4817],\n",
              "        [0.9659, 0.5641, 0.1436, 0.1091],\n",
              "        [0.4276, 0.8344, 0.1757, 0.1964]])"
            ]
          },
          "metadata": {},
          "execution_count": 3
        }
      ]
    },
    {
      "cell_type": "code",
      "source": [
        "#create a random tensors with similar shape to an image tensor\n",
        "random_image_size_tensor=torch.rand(size=(3,224,224))#hight,width,color channel\n",
        "random_image_size_tensor.shape, random_image_size_tensor.ndim"
      ],
      "metadata": {
        "id": "jpDhEzCEguLG",
        "colab": {
          "base_uri": "https://localhost:8080/"
        },
        "outputId": "d5665907-e4e9-42db-d4dc-7c33b29d1d33"
      },
      "execution_count": 4,
      "outputs": [
        {
          "output_type": "execute_result",
          "data": {
            "text/plain": [
              "(torch.Size([3, 224, 224]), 3)"
            ]
          },
          "metadata": {},
          "execution_count": 4
        }
      ]
    },
    {
      "cell_type": "markdown",
      "source": [
        "### Zeros and ones"
      ],
      "metadata": {
        "id": "zqbvcfaUcxW0"
      }
    },
    {
      "cell_type": "code",
      "source": [
        "zeros=torch.zeros(size=(2,3))\n",
        "zeros"
      ],
      "metadata": {
        "id": "EVadYnUBiIi2",
        "colab": {
          "base_uri": "https://localhost:8080/"
        },
        "outputId": "29be2aaa-a39d-4a1d-aa0d-6b8be116dc0a"
      },
      "execution_count": 5,
      "outputs": [
        {
          "output_type": "execute_result",
          "data": {
            "text/plain": [
              "tensor([[0., 0., 0.],\n",
              "        [0., 0., 0.]])"
            ]
          },
          "metadata": {},
          "execution_count": 5
        }
      ]
    },
    {
      "cell_type": "code",
      "source": [
        "ones=torch.ones(size=(4,5))\n",
        "ones"
      ],
      "metadata": {
        "colab": {
          "base_uri": "https://localhost:8080/"
        },
        "id": "vjKogFGxc8mm",
        "outputId": "dc53de2b-dbbc-4389-950b-37dda496bf3c"
      },
      "execution_count": 6,
      "outputs": [
        {
          "output_type": "execute_result",
          "data": {
            "text/plain": [
              "tensor([[1., 1., 1., 1., 1.],\n",
              "        [1., 1., 1., 1., 1.],\n",
              "        [1., 1., 1., 1., 1.],\n",
              "        [1., 1., 1., 1., 1.]])"
            ]
          },
          "metadata": {},
          "execution_count": 6
        }
      ]
    },
    {
      "cell_type": "markdown",
      "source": [
        "### Creating a range of tensors and tensors-like"
      ],
      "metadata": {
        "id": "UBH2nFCRd0u4"
      }
    },
    {
      "cell_type": "code",
      "source": [
        "#use of torch.range() and get deprecated massage use torch.arrage()\n",
        "one_to_ten=torch.arange(start=1,end=11,step=1)\n",
        "one_to_ten"
      ],
      "metadata": {
        "colab": {
          "base_uri": "https://localhost:8080/"
        },
        "id": "8UC-hGnydCj4",
        "outputId": "dc208b51-7049-4b67-a9dc-8c38cd6fddc6"
      },
      "execution_count": 7,
      "outputs": [
        {
          "output_type": "execute_result",
          "data": {
            "text/plain": [
              "tensor([ 1,  2,  3,  4,  5,  6,  7,  8,  9, 10])"
            ]
          },
          "metadata": {},
          "execution_count": 7
        }
      ]
    },
    {
      "cell_type": "code",
      "source": [
        "#create tensors like\n",
        "ten_zeros=torch.zeros_like(input=one_to_ten)\n",
        "ten_zeros"
      ],
      "metadata": {
        "colab": {
          "base_uri": "https://localhost:8080/"
        },
        "id": "oscu89CCeSCf",
        "outputId": "39800355-0028-4eed-f217-afaeb40ab769"
      },
      "execution_count": 8,
      "outputs": [
        {
          "output_type": "execute_result",
          "data": {
            "text/plain": [
              "tensor([0, 0, 0, 0, 0, 0, 0, 0, 0, 0])"
            ]
          },
          "metadata": {},
          "execution_count": 8
        }
      ]
    },
    {
      "cell_type": "markdown",
      "source": [
        "### Tensor Datatypes\n",
        "\n",
        "**Note:** Tensor datatype is one of the 3 big error you will run into with PyTorch and deep learning:\n",
        "\n",
        "1. Tensors not roght datatype.\n",
        "2. Tensors not right datatype.\n",
        "3. Tensors not on the right device."
      ],
      "metadata": {
        "id": "AIFD5fRPf6KJ"
      }
    },
    {
      "cell_type": "code",
      "source": [
        "#float 32 tensor\n",
        "float_32_tensor=torch.tensor([3.0,6.0,9.0],\n",
        "                             dtype=None, #waht datatype is tensor\n",
        "                             device=None, #what device is your tensor on\n",
        "                             requires_grad=False)# weather or not to track gradiant with this tensor operations.\n",
        "float_32_tensor"
      ],
      "metadata": {
        "colab": {
          "base_uri": "https://localhost:8080/"
        },
        "id": "hV7pwlzUegPh",
        "outputId": "2659b0ad-2b38-48a0-e60a-ddf64c93b86d"
      },
      "execution_count": 9,
      "outputs": [
        {
          "output_type": "execute_result",
          "data": {
            "text/plain": [
              "tensor([3., 6., 9.])"
            ]
          },
          "metadata": {},
          "execution_count": 9
        }
      ]
    },
    {
      "cell_type": "code",
      "source": [
        "float_32_tensor.dtype"
      ],
      "metadata": {
        "colab": {
          "base_uri": "https://localhost:8080/"
        },
        "id": "y9Zd172ahp7X",
        "outputId": "602ed663-f834-4160-872e-d75f2f7490e4"
      },
      "execution_count": 10,
      "outputs": [
        {
          "output_type": "execute_result",
          "data": {
            "text/plain": [
              "torch.float32"
            ]
          },
          "metadata": {},
          "execution_count": 10
        }
      ]
    },
    {
      "cell_type": "code",
      "source": [
        "float_16_tensor=float_32_tensor.type(torch.float16)\n",
        "float_16_tensor"
      ],
      "metadata": {
        "colab": {
          "base_uri": "https://localhost:8080/"
        },
        "id": "PoEWIBC7h49r",
        "outputId": "39034c0b-4648-4c6a-c916-f4ff7ac52dea"
      },
      "execution_count": 11,
      "outputs": [
        {
          "output_type": "execute_result",
          "data": {
            "text/plain": [
              "tensor([3., 6., 9.], dtype=torch.float16)"
            ]
          },
          "metadata": {},
          "execution_count": 11
        }
      ]
    },
    {
      "cell_type": "code",
      "source": [
        "another_float=float_16_tensor*float_32_tensor\n",
        "another_float.dtype, another_float"
      ],
      "metadata": {
        "colab": {
          "base_uri": "https://localhost:8080/"
        },
        "id": "hI_6UzqbiT8C",
        "outputId": "f7824bbe-0733-41f6-b587-567c50ca497e"
      },
      "execution_count": 12,
      "outputs": [
        {
          "output_type": "execute_result",
          "data": {
            "text/plain": [
              "(torch.float32, tensor([ 9., 36., 81.]))"
            ]
          },
          "metadata": {},
          "execution_count": 12
        }
      ]
    },
    {
      "cell_type": "code",
      "source": [
        "int_32_tensor=torch.tensor([3,6,7],dtype=torch.int64)\n",
        "int_32_tensor"
      ],
      "metadata": {
        "colab": {
          "base_uri": "https://localhost:8080/"
        },
        "id": "_ZydztcMidW3",
        "outputId": "9752e1ac-f554-4edb-a8fd-21feb984cac5"
      },
      "execution_count": 13,
      "outputs": [
        {
          "output_type": "execute_result",
          "data": {
            "text/plain": [
              "tensor([3, 6, 7])"
            ]
          },
          "metadata": {},
          "execution_count": 13
        }
      ]
    },
    {
      "cell_type": "code",
      "source": [
        "int_32_tensor*another_float"
      ],
      "metadata": {
        "colab": {
          "base_uri": "https://localhost:8080/"
        },
        "id": "d4l6X1ZnjLnE",
        "outputId": "e1a2ba6e-5ed3-4165-91b2-9ec3599df712"
      },
      "execution_count": 14,
      "outputs": [
        {
          "output_type": "execute_result",
          "data": {
            "text/plain": [
              "tensor([ 27., 216., 567.])"
            ]
          },
          "metadata": {},
          "execution_count": 14
        }
      ]
    },
    {
      "cell_type": "markdown",
      "source": [
        "### Getting information from tensor\n",
        "1. Tensors not right datatype-to do get datatyp from tensor,can use `tensor.dtype`\n",
        "2. Tensor not right shape-to get shape from a tensor can use `tensor.shape`.\n",
        "3. Tensor not on the right device-to get device from a tensor,can use `tensor.device`."
      ],
      "metadata": {
        "id": "85o2dC3fjzHb"
      }
    },
    {
      "cell_type": "code",
      "source": [
        "#create a tensor\n",
        "some_tensor=torch.rand(3,4)\n",
        "some_tensor"
      ],
      "metadata": {
        "colab": {
          "base_uri": "https://localhost:8080/"
        },
        "id": "HJpzTDr8jSc8",
        "outputId": "cfe76821-bca5-4b9a-eb2e-e30661b761ed"
      },
      "execution_count": 15,
      "outputs": [
        {
          "output_type": "execute_result",
          "data": {
            "text/plain": [
              "tensor([[0.5981, 0.0886, 0.3565, 0.7404],\n",
              "        [0.0130, 0.1345, 0.6312, 0.1868],\n",
              "        [0.1443, 0.5091, 0.1298, 0.0514]])"
            ]
          },
          "metadata": {},
          "execution_count": 15
        }
      ]
    },
    {
      "cell_type": "code",
      "source": [
        "#find out detail about some tensor\n",
        "print(some_tensor)\n",
        "print(f\"shape of tensor: {some_tensor.dtype}\")\n",
        "print(f\"shape of tensor: {some_tensor.size}\")\n",
        "print(f\"Device tensor is on: {some_tensor.device}\")"
      ],
      "metadata": {
        "colab": {
          "base_uri": "https://localhost:8080/"
        },
        "id": "MxGFnX0Gkwzm",
        "outputId": "eaceff01-c1ed-46e0-ffa7-d342f7ce7db1"
      },
      "execution_count": 16,
      "outputs": [
        {
          "output_type": "stream",
          "name": "stdout",
          "text": [
            "tensor([[0.5981, 0.0886, 0.3565, 0.7404],\n",
            "        [0.0130, 0.1345, 0.6312, 0.1868],\n",
            "        [0.1443, 0.5091, 0.1298, 0.0514]])\n",
            "shape of tensor: torch.float32\n",
            "shape of tensor: <built-in method size of Tensor object at 0x784023c049f0>\n",
            "Device tensor is on: cpu\n"
          ]
        }
      ]
    },
    {
      "cell_type": "markdown",
      "source": [
        "### Manupilation of tensor (tensor operations)\n",
        "\n",
        "Tensor operations include:\n",
        "* Addition\n",
        "* Subtraction\n",
        "* Multiplication(elemet wise)\n",
        "* Division\n",
        "* Matrix Multiplication"
      ],
      "metadata": {
        "id": "Kd4mixr_ZMtF"
      }
    },
    {
      "cell_type": "code",
      "source": [
        "#create a tensor\n",
        "tensor=torch.tensor([5,6,7])\n",
        "tensor\n"
      ],
      "metadata": {
        "id": "HxLFcpXYlRFZ",
        "colab": {
          "base_uri": "https://localhost:8080/"
        },
        "outputId": "2c27573a-0c6b-4780-867f-827bf30d854c"
      },
      "execution_count": 17,
      "outputs": [
        {
          "output_type": "execute_result",
          "data": {
            "text/plain": [
              "tensor([5, 6, 7])"
            ]
          },
          "metadata": {},
          "execution_count": 17
        }
      ]
    },
    {
      "cell_type": "code",
      "source": [
        "tensor + 10"
      ],
      "metadata": {
        "colab": {
          "base_uri": "https://localhost:8080/"
        },
        "id": "0PogoChnZ9ck",
        "outputId": "b09f2f7a-a564-49a7-ad90-3a79c7ca3e19"
      },
      "execution_count": 18,
      "outputs": [
        {
          "output_type": "execute_result",
          "data": {
            "text/plain": [
              "tensor([15, 16, 17])"
            ]
          },
          "metadata": {},
          "execution_count": 18
        }
      ]
    },
    {
      "cell_type": "code",
      "source": [
        "tensor*10"
      ],
      "metadata": {
        "colab": {
          "base_uri": "https://localhost:8080/"
        },
        "id": "UP51apVjaAHZ",
        "outputId": "914f11da-9df4-49e1-db77-115147b6c392"
      },
      "execution_count": 19,
      "outputs": [
        {
          "output_type": "execute_result",
          "data": {
            "text/plain": [
              "tensor([50, 60, 70])"
            ]
          },
          "metadata": {},
          "execution_count": 19
        }
      ]
    },
    {
      "cell_type": "code",
      "source": [
        "tensor-9"
      ],
      "metadata": {
        "colab": {
          "base_uri": "https://localhost:8080/"
        },
        "id": "NtbCC8PMaCPE",
        "outputId": "d3b477eb-07d6-46c3-981b-d12665916805"
      },
      "execution_count": 20,
      "outputs": [
        {
          "output_type": "execute_result",
          "data": {
            "text/plain": [
              "tensor([-4, -3, -2])"
            ]
          },
          "metadata": {},
          "execution_count": 20
        }
      ]
    },
    {
      "cell_type": "code",
      "source": [
        "#py-torch inbuilt function\n",
        "torch.mul(tensor,10)"
      ],
      "metadata": {
        "colab": {
          "base_uri": "https://localhost:8080/"
        },
        "id": "DPELD69paGO9",
        "outputId": "f75c7353-a19d-46bf-b4b3-4c9f312a7835"
      },
      "execution_count": 21,
      "outputs": [
        {
          "output_type": "execute_result",
          "data": {
            "text/plain": [
              "tensor([50, 60, 70])"
            ]
          },
          "metadata": {},
          "execution_count": 21
        }
      ]
    },
    {
      "cell_type": "code",
      "source": [
        "torch.add(tensor,5)"
      ],
      "metadata": {
        "colab": {
          "base_uri": "https://localhost:8080/"
        },
        "id": "cqqmjvXCaavj",
        "outputId": "ce818027-cd66-4b7b-95a3-5be3f08d63e8"
      },
      "execution_count": 22,
      "outputs": [
        {
          "output_type": "execute_result",
          "data": {
            "text/plain": [
              "tensor([10, 11, 12])"
            ]
          },
          "metadata": {},
          "execution_count": 22
        }
      ]
    },
    {
      "cell_type": "markdown",
      "source": [
        "### Matrix multiplication\n",
        "Two main ways of performing multiplication in neural network and deep learning:\n",
        "\n",
        "1. Element-wise multiplication\n",
        "2. Matrix-multiplication\n",
        "\n",
        "\n",
        "There are two main rule that perforrming matrix multiplication need to satisfy:\n",
        "1. The **inner dimensions** must match:\n",
        "* `(3,2) @ (3,2)`wont  work\n",
        "* `(3,2) @ (2,3) and wise versa` won't work\n",
        "2. The resulting matrix has  the shape of the **Outer dimension**:\n",
        "* `(2,3)@(3,2)->(2,2)`\n"
      ],
      "metadata": {
        "id": "iJe5vzloa0pV"
      }
    },
    {
      "cell_type": "code",
      "source": [
        "# element-wise multiplication\n",
        "print(tensor,\"*\",tensor)\n",
        "print(tensor*tensor)"
      ],
      "metadata": {
        "colab": {
          "base_uri": "https://localhost:8080/"
        },
        "id": "4zDGSCqjafzL",
        "outputId": "1b81f6f5-67be-4b3c-af5e-a2a0fc6ba2b1"
      },
      "execution_count": 23,
      "outputs": [
        {
          "output_type": "stream",
          "name": "stdout",
          "text": [
            "tensor([5, 6, 7]) * tensor([5, 6, 7])\n",
            "tensor([25, 36, 49])\n"
          ]
        }
      ]
    },
    {
      "cell_type": "code",
      "source": [
        "#matrix multiplcation\n",
        "torch.matmul(tensor,tensor)"
      ],
      "metadata": {
        "colab": {
          "base_uri": "https://localhost:8080/"
        },
        "id": "bERI02mDcZ60",
        "outputId": "566666ce-00eb-4910-e143-0f8504e81954"
      },
      "execution_count": 24,
      "outputs": [
        {
          "output_type": "execute_result",
          "data": {
            "text/plain": [
              "tensor(110)"
            ]
          },
          "metadata": {},
          "execution_count": 24
        }
      ]
    },
    {
      "cell_type": "markdown",
      "source": [
        "**note:**The pytorch opeartor is so much faster than simple operator."
      ],
      "metadata": {
        "id": "TwBzKDTLcxJl"
      }
    },
    {
      "cell_type": "code",
      "source": [
        "%%time\n",
        "value=0\n",
        "for i in range(len(tensor)):\n",
        "  value +=tensor[i]*tensor[i]\n",
        "print(value)\n"
      ],
      "metadata": {
        "colab": {
          "base_uri": "https://localhost:8080/"
        },
        "id": "sloQRxjscttJ",
        "outputId": "4d1d72be-b8f2-4e55-e3a2-b25907ab4cfa"
      },
      "execution_count": 25,
      "outputs": [
        {
          "output_type": "stream",
          "name": "stdout",
          "text": [
            "tensor(110)\n",
            "CPU times: user 1.58 ms, sys: 0 ns, total: 1.58 ms\n",
            "Wall time: 1.59 ms\n"
          ]
        }
      ]
    },
    {
      "cell_type": "code",
      "source": [
        "%%time\n",
        "torch.matmul(tensor,tensor)"
      ],
      "metadata": {
        "colab": {
          "base_uri": "https://localhost:8080/"
        },
        "id": "KQJESVbLdZgL",
        "outputId": "ee208a5e-68e7-4c71-95de-cdc566b6b675"
      },
      "execution_count": 26,
      "outputs": [
        {
          "output_type": "stream",
          "name": "stdout",
          "text": [
            "CPU times: user 63 µs, sys: 14 µs, total: 77 µs\n",
            "Wall time: 80.6 µs\n"
          ]
        },
        {
          "output_type": "execute_result",
          "data": {
            "text/plain": [
              "tensor(110)"
            ]
          },
          "metadata": {},
          "execution_count": 26
        }
      ]
    },
    {
      "cell_type": "code",
      "source": [
        "mat=torch.rand(size=(3,2))\n",
        "mat1=torch.rand(size=(2,3))\n",
        "mat,mat1"
      ],
      "metadata": {
        "colab": {
          "base_uri": "https://localhost:8080/"
        },
        "id": "kr-diBn4dipt",
        "outputId": "018fcf7f-ca15-4a82-c9ff-005277e36a61"
      },
      "execution_count": 27,
      "outputs": [
        {
          "output_type": "execute_result",
          "data": {
            "text/plain": [
              "(tensor([[0.7796, 0.9138],\n",
              "         [0.2124, 0.0090],\n",
              "         [0.4995, 0.3964]]),\n",
              " tensor([[4.6229e-04, 9.0641e-01, 9.8462e-01],\n",
              "         [8.5619e-01, 2.0472e-01, 2.9288e-02]]))"
            ]
          },
          "metadata": {},
          "execution_count": 27
        }
      ]
    },
    {
      "cell_type": "code",
      "source": [
        "torch.matmul(mat,mat1)"
      ],
      "metadata": {
        "colab": {
          "base_uri": "https://localhost:8080/"
        },
        "id": "FWQTo_VqgPp9",
        "outputId": "3eca9497-f6a7-4013-af5d-3bae006d74e9"
      },
      "execution_count": 28,
      "outputs": [
        {
          "output_type": "execute_result",
          "data": {
            "text/plain": [
              "tensor([[0.7827, 0.8937, 0.7944],\n",
              "        [0.0078, 0.1944, 0.2094],\n",
              "        [0.3396, 0.5339, 0.5034]])"
            ]
          },
          "metadata": {},
          "execution_count": 28
        }
      ]
    },
    {
      "cell_type": "markdown",
      "source": [
        "### One of the Most common error in deep learning:shape error"
      ],
      "metadata": {
        "id": "-dh1HBjagq62"
      }
    },
    {
      "cell_type": "code",
      "source": [
        "# Shape for matrix multiplication\n",
        "tensor_A=torch.tensor([[1,2],\n",
        "                       [3,4],\n",
        "                       [5,6]])\n",
        "\n",
        "\n",
        "tensor_B=torch.tensor([[7,8],\n",
        "                       [8,9],\n",
        "                       [10,11]])\n",
        "#torch.mm(tensor_A,tensor_B)# torch.mm is the same as torch.matmul\n",
        "torch.mm(tensor_A,tensor_B)\n",
        "\n"
      ],
      "metadata": {
        "colab": {
          "base_uri": "https://localhost:8080/",
          "height": 227
        },
        "id": "3z479ywagYDJ",
        "outputId": "f3b38011-e174-465c-f62d-ac04da82686b"
      },
      "execution_count": 30,
      "outputs": [
        {
          "output_type": "error",
          "ename": "RuntimeError",
          "evalue": "ignored",
          "traceback": [
            "\u001b[0;31m---------------------------------------------------------------------------\u001b[0m",
            "\u001b[0;31mRuntimeError\u001b[0m                              Traceback (most recent call last)",
            "\u001b[0;32m<ipython-input-30-2c7e35f3da3f>\u001b[0m in \u001b[0;36m<cell line: 11>\u001b[0;34m()\u001b[0m\n\u001b[1;32m      9\u001b[0m                        [10,11]])\n\u001b[1;32m     10\u001b[0m \u001b[0;31m#torch.mm(tensor_A,tensor_B)# torch.mm is the same as torch.matmul\u001b[0m\u001b[0;34m\u001b[0m\u001b[0;34m\u001b[0m\u001b[0m\n\u001b[0;32m---> 11\u001b[0;31m \u001b[0mtorch\u001b[0m\u001b[0;34m.\u001b[0m\u001b[0mmm\u001b[0m\u001b[0;34m(\u001b[0m\u001b[0mtensor_A\u001b[0m\u001b[0;34m,\u001b[0m\u001b[0mtensor_B\u001b[0m\u001b[0;34m)\u001b[0m\u001b[0;34m\u001b[0m\u001b[0;34m\u001b[0m\u001b[0m\n\u001b[0m\u001b[1;32m     12\u001b[0m \u001b[0;34m\u001b[0m\u001b[0m\n",
            "\u001b[0;31mRuntimeError\u001b[0m: mat1 and mat2 shapes cannot be multiplied (3x2 and 3x2)"
          ]
        }
      ]
    },
    {
      "cell_type": "markdown",
      "source": [
        "**note:**To fox tensor issues,we can manipulate the shape of one of our tensor using a **transpos**."
      ],
      "metadata": {
        "id": "baZVpZOHi-r3"
      }
    },
    {
      "cell_type": "code",
      "source": [
        "tensor_A.T"
      ],
      "metadata": {
        "colab": {
          "base_uri": "https://localhost:8080/"
        },
        "id": "sXY-wrQ8iz-U",
        "outputId": "0255c41f-7c90-453b-a180-cf00a7d640a8"
      },
      "execution_count": 31,
      "outputs": [
        {
          "output_type": "execute_result",
          "data": {
            "text/plain": [
              "tensor([[1, 3, 5],\n",
              "        [2, 4, 6]])"
            ]
          },
          "metadata": {},
          "execution_count": 31
        }
      ]
    },
    {
      "cell_type": "code",
      "source": [
        "print(f\"Original shape:tensor_A= {tensor_A.shape},tensor_B={tensor_B}\")\n",
        "print(f\"New shape:Tensor_A={tensor_A.shape} (same shape as above),tensor_B.T{tensor_B.T}\")\n",
        "print(f\"Multiplying:{tensor_A.shape} @ {tensor_B.T.shape}<-inner dimensions must match\")\n",
        "print(f\"output:\\n\")\n",
        "output=torch.mm(tensor_A,tensor_B.T)\n",
        "print(output)\n",
        "print(f\"\\nOutput shape:{output.shape}\")\n"
      ],
      "metadata": {
        "colab": {
          "base_uri": "https://localhost:8080/"
        },
        "id": "QkEWZkiZjU_t",
        "outputId": "4e960228-bb3a-4542-be94-51118bc1ee20"
      },
      "execution_count": 32,
      "outputs": [
        {
          "output_type": "stream",
          "name": "stdout",
          "text": [
            "Original shape:tensor_A= torch.Size([3, 2]),tensor_B=tensor([[ 7,  8],\n",
            "        [ 8,  9],\n",
            "        [10, 11]])\n",
            "New shape:Tensor_A=torch.Size([3, 2]) (same shape as above),tensor_B.Ttensor([[ 7,  8, 10],\n",
            "        [ 8,  9, 11]])\n",
            "Multiplying:torch.Size([3, 2]) @ torch.Size([2, 3])<-inner dimensions must match\n",
            "output:\n",
            "\n",
            "tensor([[ 23,  26,  32],\n",
            "        [ 53,  60,  74],\n",
            "        [ 83,  94, 116]])\n",
            "\n",
            "Output shape:torch.Size([3, 3])\n"
          ]
        }
      ]
    },
    {
      "cell_type": "markdown",
      "source": [
        "### Finding the min, max, mean,etc (tensor aggriation)"
      ],
      "metadata": {
        "id": "ruPWvrgjAGz3"
      }
    },
    {
      "cell_type": "code",
      "source": [
        "#create a tensor\n",
        "x=torch.arange(1,100,10)\n",
        "x,x.dtype"
      ],
      "metadata": {
        "id": "iXOTu9SVj4y0",
        "colab": {
          "base_uri": "https://localhost:8080/"
        },
        "outputId": "663e4e96-8735-496e-c9cd-9f019acdae13"
      },
      "execution_count": 33,
      "outputs": [
        {
          "output_type": "execute_result",
          "data": {
            "text/plain": [
              "(tensor([ 1, 11, 21, 31, 41, 51, 61, 71, 81, 91]), torch.int64)"
            ]
          },
          "metadata": {},
          "execution_count": 33
        }
      ]
    },
    {
      "cell_type": "code",
      "source": [
        "#find the min\n",
        "torch.min(x),x.min()"
      ],
      "metadata": {
        "colab": {
          "base_uri": "https://localhost:8080/"
        },
        "id": "esdTom1xAa-V",
        "outputId": "4e3a0160-180b-4c54-fd2a-e95b432b9d05"
      },
      "execution_count": 34,
      "outputs": [
        {
          "output_type": "execute_result",
          "data": {
            "text/plain": [
              "(tensor(1), tensor(1))"
            ]
          },
          "metadata": {},
          "execution_count": 34
        }
      ]
    },
    {
      "cell_type": "code",
      "source": [
        "#find the max\n",
        "torch.max(x), x.max()"
      ],
      "metadata": {
        "colab": {
          "base_uri": "https://localhost:8080/"
        },
        "id": "TU1eCYdYAlDd",
        "outputId": "dc8a8cdb-47a7-43dc-a98d-c3a839edc342"
      },
      "execution_count": 35,
      "outputs": [
        {
          "output_type": "execute_result",
          "data": {
            "text/plain": [
              "(tensor(91), tensor(91))"
            ]
          },
          "metadata": {},
          "execution_count": 35
        }
      ]
    },
    {
      "cell_type": "code",
      "source": [
        "#find the mean\n",
        "torch.mean(x.type(torch.float32)),x.type(torch.float32).mean()"
      ],
      "metadata": {
        "colab": {
          "base_uri": "https://localhost:8080/"
        },
        "id": "YBNXoSvEA3Zi",
        "outputId": "ce4f1fd2-6999-43a6-c605-d9a60d8e9c4f"
      },
      "execution_count": 36,
      "outputs": [
        {
          "output_type": "execute_result",
          "data": {
            "text/plain": [
              "(tensor(46.), tensor(46.))"
            ]
          },
          "metadata": {},
          "execution_count": 36
        }
      ]
    },
    {
      "cell_type": "code",
      "source": [
        "#find the sum\n",
        "torch.sum(x),x.sum()"
      ],
      "metadata": {
        "colab": {
          "base_uri": "https://localhost:8080/"
        },
        "id": "iNPo_a5JBAi8",
        "outputId": "44553d63-df65-44ad-8f59-9e4fbbd303be"
      },
      "execution_count": 37,
      "outputs": [
        {
          "output_type": "execute_result",
          "data": {
            "text/plain": [
              "(tensor(460), tensor(460))"
            ]
          },
          "metadata": {},
          "execution_count": 37
        }
      ]
    },
    {
      "cell_type": "markdown",
      "source": [
        "### finding the position min and max"
      ],
      "metadata": {
        "id": "-jsfiJ_pRHJa"
      }
    },
    {
      "cell_type": "code",
      "source": [
        "x"
      ],
      "metadata": {
        "colab": {
          "base_uri": "https://localhost:8080/"
        },
        "id": "BhzFkFDPBdV_",
        "outputId": "b4fabaf9-7842-4cff-d94e-b1f4b8d8a3d2"
      },
      "execution_count": 38,
      "outputs": [
        {
          "output_type": "execute_result",
          "data": {
            "text/plain": [
              "tensor([ 1, 11, 21, 31, 41, 51, 61, 71, 81, 91])"
            ]
          },
          "metadata": {},
          "execution_count": 38
        }
      ]
    },
    {
      "cell_type": "code",
      "source": [
        "#find the poistion in tensor that has the has the min value in argmin ()->rerturn thr index of min value inn tthe array\n",
        "x.argmin()"
      ],
      "metadata": {
        "colab": {
          "base_uri": "https://localhost:8080/"
        },
        "id": "Rno3PaxRRQyd",
        "outputId": "b062d1ee-7411-48d8-fa8a-7e2f8442333a"
      },
      "execution_count": 39,
      "outputs": [
        {
          "output_type": "execute_result",
          "data": {
            "text/plain": [
              "tensor(0)"
            ]
          },
          "metadata": {},
          "execution_count": 39
        }
      ]
    },
    {
      "cell_type": "code",
      "source": [
        "x[0]"
      ],
      "metadata": {
        "colab": {
          "base_uri": "https://localhost:8080/"
        },
        "id": "G1JMStHXRmBn",
        "outputId": "56a09713-5a21-44d7-f37d-f3afbb54c997"
      },
      "execution_count": 40,
      "outputs": [
        {
          "output_type": "execute_result",
          "data": {
            "text/plain": [
              "tensor(1)"
            ]
          },
          "metadata": {},
          "execution_count": 40
        }
      ]
    },
    {
      "cell_type": "code",
      "source": [
        "x.argmax()"
      ],
      "metadata": {
        "colab": {
          "base_uri": "https://localhost:8080/"
        },
        "id": "dFpjYis4RoZt",
        "outputId": "d884fb3e-035e-4ce6-abaf-1dd4658a02d7"
      },
      "execution_count": 41,
      "outputs": [
        {
          "output_type": "execute_result",
          "data": {
            "text/plain": [
              "tensor(9)"
            ]
          },
          "metadata": {},
          "execution_count": 41
        }
      ]
    },
    {
      "cell_type": "code",
      "source": [
        "x[9]"
      ],
      "metadata": {
        "colab": {
          "base_uri": "https://localhost:8080/"
        },
        "id": "7qZI_E9SRsxb",
        "outputId": "f62b9897-f451-428b-c07a-8cf3fc462069"
      },
      "execution_count": 42,
      "outputs": [
        {
          "output_type": "execute_result",
          "data": {
            "text/plain": [
              "tensor(91)"
            ]
          },
          "metadata": {},
          "execution_count": 42
        }
      ]
    },
    {
      "cell_type": "markdown",
      "source": [
        "## Reshaping , stacking, squeezing and unsqueezing tensor\n",
        "\n",
        "* Reshaping - Reshape an input tensor to a define shape.\n",
        "* view - Return a view of an input tensor of certain shape but keep the same memory as the orginal tensor\n",
        "* Stacking- combine multiple tensor on top of each other (vstack) or slide by slide (hstack)  \n",
        "* Squeeze -  remove all `1` dimensions from tensor\n",
        "* Unsqueeze - add a `1` dimensions ot a target tensor\n",
        "* permute - Return a view of the input with dimensions permuted(swapped) in certain way."
      ],
      "metadata": {
        "id": "6M3ySfewS11t"
      }
    },
    {
      "cell_type": "code",
      "source": [
        "x=torch.arange(1., 10.)\n",
        "x, x.shape"
      ],
      "metadata": {
        "colab": {
          "base_uri": "https://localhost:8080/"
        },
        "id": "EPXPTUw2RwOi",
        "outputId": "67f4f539-86ef-4cd4-f21b-2d31baa35782"
      },
      "execution_count": 43,
      "outputs": [
        {
          "output_type": "execute_result",
          "data": {
            "text/plain": [
              "(tensor([1., 2., 3., 4., 5., 6., 7., 8., 9.]), torch.Size([9]))"
            ]
          },
          "metadata": {},
          "execution_count": 43
        }
      ]
    },
    {
      "cell_type": "code",
      "source": [
        "#applying the reshaping\n",
        "x_reshaped1 =x.reshape(1,9)\n",
        "x_reshaped1, x_reshaped1.shape"
      ],
      "metadata": {
        "colab": {
          "base_uri": "https://localhost:8080/"
        },
        "id": "WxpVSS8oYcSD",
        "outputId": "b84946d5-d8f4-41a9-f0d3-c493917dcc12"
      },
      "execution_count": 44,
      "outputs": [
        {
          "output_type": "execute_result",
          "data": {
            "text/plain": [
              "(tensor([[1., 2., 3., 4., 5., 6., 7., 8., 9.]]), torch.Size([1, 9]))"
            ]
          },
          "metadata": {},
          "execution_count": 44
        }
      ]
    },
    {
      "cell_type": "code",
      "source": [
        "x_reshaped =x.reshape(3,3)#the mutiplication of size should be equal to the shape\n",
        "x_reshaped, x_reshaped.shape"
      ],
      "metadata": {
        "colab": {
          "base_uri": "https://localhost:8080/"
        },
        "id": "Q1Y1rqy-YwMZ",
        "outputId": "1ee9d819-d8f1-4706-9723-4c3f9a583d68"
      },
      "execution_count": 45,
      "outputs": [
        {
          "output_type": "execute_result",
          "data": {
            "text/plain": [
              "(tensor([[1., 2., 3.],\n",
              "         [4., 5., 6.],\n",
              "         [7., 8., 9.]]),\n",
              " torch.Size([3, 3]))"
            ]
          },
          "metadata": {},
          "execution_count": 45
        }
      ]
    },
    {
      "cell_type": "code",
      "source": [
        "#change the view\n",
        "z=x.view(1,9)\n",
        "z,z.shape"
      ],
      "metadata": {
        "colab": {
          "base_uri": "https://localhost:8080/"
        },
        "id": "T44EWeLlY0-x",
        "outputId": "3b3c06bb-80d7-4cc8-814f-4b06a5dc5990"
      },
      "execution_count": 46,
      "outputs": [
        {
          "output_type": "execute_result",
          "data": {
            "text/plain": [
              "(tensor([[1., 2., 3., 4., 5., 6., 7., 8., 9.]]), torch.Size([1, 9]))"
            ]
          },
          "metadata": {},
          "execution_count": 46
        }
      ]
    },
    {
      "cell_type": "code",
      "source": [
        "#Changing z changes x (because a view of tensor shares the same memory as the original input)\n",
        "z[:,0]=5\n",
        "z,x"
      ],
      "metadata": {
        "colab": {
          "base_uri": "https://localhost:8080/"
        },
        "id": "1HbZiDBxZSO-",
        "outputId": "5f7a8c42-697b-483d-b92d-a79ce08f6dd7"
      },
      "execution_count": 47,
      "outputs": [
        {
          "output_type": "execute_result",
          "data": {
            "text/plain": [
              "(tensor([[5., 2., 3., 4., 5., 6., 7., 8., 9.]]),\n",
              " tensor([5., 2., 3., 4., 5., 6., 7., 8., 9.]))"
            ]
          },
          "metadata": {},
          "execution_count": 47
        }
      ]
    },
    {
      "cell_type": "code",
      "source": [
        "#stack tensors on top each other\n",
        "x_stacked=torch.stack([x,x,x,x],dim=0)\n",
        "x_stacked"
      ],
      "metadata": {
        "colab": {
          "base_uri": "https://localhost:8080/"
        },
        "id": "C7zWvAuAZmKA",
        "outputId": "50ce0660-d733-4dac-f9c1-3dac936f0ac1"
      },
      "execution_count": 48,
      "outputs": [
        {
          "output_type": "execute_result",
          "data": {
            "text/plain": [
              "tensor([[5., 2., 3., 4., 5., 6., 7., 8., 9.],\n",
              "        [5., 2., 3., 4., 5., 6., 7., 8., 9.],\n",
              "        [5., 2., 3., 4., 5., 6., 7., 8., 9.],\n",
              "        [5., 2., 3., 4., 5., 6., 7., 8., 9.]])"
            ]
          },
          "metadata": {},
          "execution_count": 48
        }
      ]
    },
    {
      "cell_type": "code",
      "source": [
        "#squeezing the tensor\n",
        "zeros=torch.zeros(3,1,3,1,3)\n",
        "zeros.size()"
      ],
      "metadata": {
        "colab": {
          "base_uri": "https://localhost:8080/"
        },
        "id": "1X09KhYaZ1ik",
        "outputId": "d48551d9-82a3-4b35-c4e4-9d4102f4ab07"
      },
      "execution_count": 49,
      "outputs": [
        {
          "output_type": "execute_result",
          "data": {
            "text/plain": [
              "torch.Size([3, 1, 3, 1, 3])"
            ]
          },
          "metadata": {},
          "execution_count": 49
        }
      ]
    },
    {
      "cell_type": "code",
      "source": [
        "zeros_s=torch.squeeze(zeros)\n",
        "zeros_s.shape"
      ],
      "metadata": {
        "colab": {
          "base_uri": "https://localhost:8080/"
        },
        "id": "-_IIBVZIayrc",
        "outputId": "b845f360-6c72-48e9-daab-8f770743e86e"
      },
      "execution_count": 50,
      "outputs": [
        {
          "output_type": "execute_result",
          "data": {
            "text/plain": [
              "torch.Size([3, 3, 3])"
            ]
          },
          "metadata": {},
          "execution_count": 50
        }
      ]
    },
    {
      "cell_type": "code",
      "source": [
        "x_reshaped1.squeeze().shape"
      ],
      "metadata": {
        "colab": {
          "base_uri": "https://localhost:8080/"
        },
        "id": "5dykzjOxbE-V",
        "outputId": "2dd52894-3971-4508-80c9-cd92e6223d05"
      },
      "execution_count": 51,
      "outputs": [
        {
          "output_type": "execute_result",
          "data": {
            "text/plain": [
              "torch.Size([9])"
            ]
          },
          "metadata": {},
          "execution_count": 51
        }
      ]
    },
    {
      "cell_type": "code",
      "source": [
        "#torch.squeeze()-removes all single dimensions from target from a target tensor\n",
        "print(f\"previous tensor:{x_reshaped1}\")\n",
        "print(f\"pervious shape:{x_reshaped1.shape}\")\n",
        "\n",
        "#remove the extra dimensions from x_shaped\n",
        "x_squeeze=x_reshaped1.squeeze()\n",
        "print(f\"\\n new  tensor:{x_squeeze}\")\n",
        "print(f\"new shape:{x_squeeze.shape}\")\n"
      ],
      "metadata": {
        "colab": {
          "base_uri": "https://localhost:8080/"
        },
        "id": "Pd9qR43OcHxY",
        "outputId": "b0a9b3dd-325c-44b3-a2d5-338d1a57e3b8"
      },
      "execution_count": 52,
      "outputs": [
        {
          "output_type": "stream",
          "name": "stdout",
          "text": [
            "previous tensor:tensor([[5., 2., 3., 4., 5., 6., 7., 8., 9.]])\n",
            "pervious shape:torch.Size([1, 9])\n",
            "\n",
            " new  tensor:tensor([5., 2., 3., 4., 5., 6., 7., 8., 9.])\n",
            "new shape:torch.Size([9])\n"
          ]
        }
      ]
    },
    {
      "cell_type": "code",
      "source": [
        "#torch.unsqueeze()-add all single dimensions from target from a target tensor\n",
        "print(f\"previous tensor:{x_squeeze}\")\n",
        "print(f\"pervious shape:{x_squeeze.shape}\")\n",
        "\n",
        "#remove the extra dimensions from x_shaped\n",
        "x_unsqueeze=x_squeeze.unsqueeze(dim=0)\n",
        "print(f\"\\n new  tensor:{x_unsqueeze}\")\n",
        "print(f\"new shape:{x_unsqueeze.shape}\")"
      ],
      "metadata": {
        "colab": {
          "base_uri": "https://localhost:8080/"
        },
        "id": "_LFRNSnRdsuw",
        "outputId": "237ebde6-313d-457a-824a-0de361ee36fd"
      },
      "execution_count": 53,
      "outputs": [
        {
          "output_type": "stream",
          "name": "stdout",
          "text": [
            "previous tensor:tensor([5., 2., 3., 4., 5., 6., 7., 8., 9.])\n",
            "pervious shape:torch.Size([9])\n",
            "\n",
            " new  tensor:tensor([[5., 2., 3., 4., 5., 6., 7., 8., 9.]])\n",
            "new shape:torch.Size([1, 9])\n"
          ]
        }
      ]
    },
    {
      "cell_type": "code",
      "source": [
        "# torch.permute - rearrange the dimensions of a target tensor in a specifies\n",
        "x_original=torch.rand(size=(224, 224, 3))#hight width color_channels\n",
        "x_original"
      ],
      "metadata": {
        "colab": {
          "base_uri": "https://localhost:8080/"
        },
        "id": "_sLi7SY0eWEH",
        "outputId": "420b2355-ef61-4106-9b8c-934f348b5a98"
      },
      "execution_count": 56,
      "outputs": [
        {
          "output_type": "execute_result",
          "data": {
            "text/plain": [
              "tensor([[[0.5109, 0.1911, 0.9391],\n",
              "         [0.9297, 0.6537, 0.2364],\n",
              "         [0.4784, 0.6008, 0.0427],\n",
              "         ...,\n",
              "         [0.1317, 0.4218, 0.8252],\n",
              "         [0.8822, 0.9892, 0.1647],\n",
              "         [0.3056, 0.0749, 0.7846]],\n",
              "\n",
              "        [[0.0262, 0.5062, 0.8274],\n",
              "         [0.8787, 0.3611, 0.8780],\n",
              "         [0.3028, 0.6644, 0.8100],\n",
              "         ...,\n",
              "         [0.2150, 0.1302, 0.6667],\n",
              "         [0.1917, 0.6600, 0.1853],\n",
              "         [0.0644, 0.0396, 0.6210]],\n",
              "\n",
              "        [[0.1138, 0.3779, 0.2405],\n",
              "         [0.1288, 0.8669, 0.0368],\n",
              "         [0.6603, 0.0368, 0.4561],\n",
              "         ...,\n",
              "         [0.1376, 0.8155, 0.9901],\n",
              "         [0.9239, 0.2713, 0.1054],\n",
              "         [0.6003, 0.7852, 0.2776]],\n",
              "\n",
              "        ...,\n",
              "\n",
              "        [[0.3357, 0.9552, 0.9895],\n",
              "         [0.4602, 0.0188, 0.9067],\n",
              "         [0.2236, 0.8106, 0.3032],\n",
              "         ...,\n",
              "         [0.1634, 0.4605, 0.2887],\n",
              "         [0.9812, 0.2287, 0.0087],\n",
              "         [0.3755, 0.6743, 0.2504]],\n",
              "\n",
              "        [[0.5362, 0.5970, 0.6963],\n",
              "         [0.3829, 0.8901, 0.6333],\n",
              "         [0.4399, 0.5186, 0.2071],\n",
              "         ...,\n",
              "         [0.5681, 0.8941, 0.3739],\n",
              "         [0.3941, 0.9886, 0.6057],\n",
              "         [0.6481, 0.2447, 0.4939]],\n",
              "\n",
              "        [[0.8424, 0.8729, 0.9390],\n",
              "         [0.4319, 0.3458, 0.9681],\n",
              "         [0.5358, 0.7062, 0.9832],\n",
              "         ...,\n",
              "         [0.6759, 0.8655, 0.1675],\n",
              "         [0.7680, 0.9767, 0.4265],\n",
              "         [0.6671, 0.3087, 0.7567]]])"
            ]
          },
          "metadata": {},
          "execution_count": 56
        }
      ]
    },
    {
      "cell_type": "code",
      "source": [],
      "metadata": {
        "id": "oGcqU0_hHEiR"
      },
      "execution_count": null,
      "outputs": []
    }
  ]
}